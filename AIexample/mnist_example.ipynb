{
 "cells": [
  {
   "cell_type": "code",
   "execution_count": 4,
   "metadata": {},
   "outputs": [],
   "source": [
    "from tensorflow.keras.datasets import mnist\n",
    "\n",
    "import matplotlib.pyplot as plt\n",
    "import numpy as np\n",
    "import tensorflow as tf\n",
    "\n",
    "# Import Keras libraries and packages\n",
    "from tensorflow.keras.models import Sequential  #用來啟動 NN\n",
    "from tensorflow.keras.layers import Conv2D  # Convolution Operation\n",
    "from tensorflow.keras.layers import MaxPooling2D # Pooling\n",
    "from tensorflow.keras.layers import Flatten #\n",
    "from tensorflow.keras.layers import Dense # Fully Connected Networks\n",
    "from tensorflow.keras.layers import Input\n",
    "from tensorflow.keras.models import Model\n"
   ]
  },
  {
   "cell_type": "markdown",
   "metadata": {},
   "source": []
  },
  {
   "cell_type": "code",
   "execution_count": 5,
   "metadata": {},
   "outputs": [
    {
     "name": "stdout",
     "output_type": "stream",
     "text": [
      "60000 train samples\n",
      "10000 test samples\n"
     ]
    }
   ],
   "source": [
    "(x_train, y_train), (x_test, y_test) = mnist.load_data()\n",
    "#扁平化\n",
    "x_train = x_train.reshape(60000, 784)\n",
    "x_test = x_test.reshape(10000, 784)\n",
    "\n",
    "x_train = x_train.astype('float32')\n",
    "x_test = x_test.astype('float32')\n",
    "x_train /= 255\n",
    "x_test /= 255\n",
    "\n",
    "print(x_train.shape[0], 'train samples')\n",
    "print(x_test.shape[0], 'test samples')"
   ]
  },
  {
   "cell_type": "markdown",
   "metadata": {},
   "source": [
    "# 資料分布\n"
   ]
  },
  {
   "cell_type": "code",
   "execution_count": 15,
   "metadata": {},
   "outputs": [
    {
     "data": {
      "image/png": "[encoded data removed]",
      "text/plain": [
       "<Figure size 432x288 with 1 Axes>"
      ]
     },
     "metadata": {
      "needs_background": "light"
     },
     "output_type": "display_data"
    },
    {
     "data": {
      "image/png": "[encoded data removed]",
      "text/plain": [
       "<Figure size 432x288 with 1 Axes>"
      ]
     },
     "metadata": {
      "needs_background": "light"
     },
     "output_type": "display_data"
    }
   ],
   "source": [
    "\n",
    "labels, counts = np.unique(y_train, return_counts=True)\n",
    "plt.bar(labels, counts, align='center')\n",
    "plt.gca().set_xticks(labels)\n",
    "plt.show()\n",
    "\n",
    "\n",
    "labels, counts = np.unique(y_test, return_counts=True)\n",
    "plt.bar(labels, counts, align='center')\n",
    "plt.gca().set_xticks(labels)\n",
    "plt.show()"
   ]
  },
  {
   "cell_type": "markdown",
   "metadata": {},
   "source": []
  },
  {
   "cell_type": "markdown",
   "metadata": {},
   "source": [
    "# One hot encoding\n",
    "## 由於需要輸出10個預測數字(0~9)\n",
    "## 故將0-9的數值轉換為label樣式\n",
    "\n",
    "### One-hot在數位電路中被用來表示一種特殊的位元組合，該位元組裏，僅容許單一位元爲1，其他位元都必須爲0。之所以稱爲one-hot就是因爲只能有一個1。\n",
    "\n",
    "## 這個也常用在其他機器學習之中，例如將字元轉換為輸入值時，可以透過此方法來做。EX:bag of word\n",
    "\n",
    "### 今天有0~3 需要4個位數，因為有四個數字 0 1 2 3\n",
    "### 若我的數字為3 經過此轉換後即變為 0 0 0 1\n",
    "\n",
    "### 以本例子來說，目前需要判定10種數字 0~9 \n",
    "### 即需要10個位數來分別代表。"
   ]
  },
  {
   "cell_type": "code",
   "execution_count": 3,
   "metadata": {},
   "outputs": [],
   "source": [
    "y_train_onthot = tf.keras.backend.one_hot(\n",
    "    y_train, 10\n",
    ")\n",
    "\n",
    "y_test_onthot = tf.keras.backend.one_hot(\n",
    "    y_test, 10\n",
    ")"
   ]
  },
  {
   "cell_type": "code",
   "execution_count": 4,
   "metadata": {},
   "outputs": [
    {
     "data": {
      "text/plain": [
       "TensorShape([60000, 10])"
      ]
     },
     "execution_count": 4,
     "metadata": {},
     "output_type": "execute_result"
    }
   ],
   "source": [
    "np.shape(y_train_onthot)"
   ]
  },
  {
   "cell_type": "markdown",
   "metadata": {},
   "source": [
    "## 看一下圖片的樣子 \n",
    "# index 可以替換為 0 ~ 59999"
   ]
  },
  {
   "cell_type": "code",
   "execution_count": 5,
   "metadata": {},
   "outputs": [
    {
     "name": "stdout",
     "output_type": "stream",
     "text": [
      "1\n"
     ]
    },
    {
     "data": {
      "image/png": "[encoded data removed]",
      "text/plain": [
       "<Figure size 432x288 with 1 Axes>"
      ]
     },
     "metadata": {
      "needs_background": "light"
     },
     "output_type": "display_data"
    }
   ],
   "source": [
    "#due to picture pixels so change shape to 28*28\n",
    "index = 200\n",
    "plt.imshow(np.reshape(x_train[index],[28,28]))\n",
    "print(y_train[index])"
   ]
  },
  {
   "cell_type": "markdown",
   "metadata": {},
   "source": [
    "# Optimize\n",
    "## Using Gradient Descent for example.\n",
    "\n",
    "<img src=\"https://upload.wikimedia.org/wikipedia/commons/thumb/d/db/Gradient_ascent_%28contour%29.png/350px-Gradient_ascent_%28contour%29.png\">"
   ]
  },
  {
   "cell_type": "markdown",
   "metadata": {},
   "source": [
    "# Classification\n",
    "<img src=\"https://i.ytimg.com/vi/fZAZUYEeIMg/maxresdefault.jpg\" >\n",
    "\n",
    "<<source:台大李弘毅教授 ML lecture 4 : classification>>"
   ]
  },
  {
   "cell_type": "markdown",
   "metadata": {},
   "source": [
    "# Artificial Neural Network\n",
    "<img src=\"https://upload.wikimedia.org/wikipedia/commons/4/46/Colored_neural_network.svg\" />"
   ]
  },
  {
   "cell_type": "code",
   "execution_count": null,
   "metadata": {},
   "outputs": [],
   "source": [
    "model = Sequential()  \n",
    "\n",
    "# INPUT LAYER & HIDDEN LAYER \n",
    "model.add(Dense(units=4096, activation = 'relu', input_shape=(784,)))\n",
    "# OUTPUT LAYER\n",
    "model.add(Dense(units=10, activation = 'relu'))\n",
    "model.compile(optimizer = 'adam', loss = 'binary_crossentropy', metrics = ['accuracy'])"
   ]
  },
  {
   "cell_type": "code",
   "execution_count": null,
   "metadata": {},
   "outputs": [],
   "source": [
    "model.fit(x=x_train,y=y_train_onthot, batch_size=3000, epochs=10)"
   ]
  },
  {
   "cell_type": "code",
   "execution_count": null,
   "metadata": {},
   "outputs": [],
   "source": [
    "results = model.evaluate(x_test, y_test_onthot, batch_size=128)"
   ]
  },
  {
   "cell_type": "markdown",
   "metadata": {},
   "source": [
    "# cross entropy\n",
    "<img src=\"https://ml-cheatsheet.readthedocs.io/en/latest/_images/cross_entropy.png\"/>"
   ]
  },
  {
   "cell_type": "markdown",
   "metadata": {},
   "source": [
    "<img src=\"https://ithelp.ithome.com.tw/upload/images/20171206/20001976yeCo1PvEOs.jpg\" />"
   ]
  },
  {
   "cell_type": "code",
   "execution_count": null,
   "metadata": {},
   "outputs": [],
   "source": [
    "print(x_train[0].shape)"
   ]
  },
  {
   "cell_type": "markdown",
   "metadata": {},
   "source": [
    "## ↑↑↑\n",
    "## --由於資料集為1d array[784] 輸入後需轉換為圖片的3d array [28,28,1]--\n",
    "## [長,寬,channel(rgb)]\n",
    "## 而此張圖為bit map 也就是只有 0 與 1 的灰階圖片，故後面channel為1"
   ]
  },
  {
   "cell_type": "code",
   "execution_count": null,
   "metadata": {},
   "outputs": [],
   "source": [
    "#example of VGG19\n",
    "model = Sequential()  \n",
    "\n",
    "model.add(tf.keras.layers.Reshape((28, 28,1), input_shape=(784,)))\n",
    "model.add(Conv2D(64, (3, 3), activation = 'relu'))\n",
    "model.add(Conv2D(64, (3, 3), activation = 'relu',padding='same'))\n",
    "model.add(MaxPooling2D())\n",
    "\n",
    "model.add(Conv2D(128,(3,3), activation = 'relu',padding='same'))\n",
    "model.add(Conv2D(128,(3,3), activation = 'relu',padding='same'))\n",
    "model.add(MaxPooling2D(pool_size = (2, 2)))\n",
    "\n",
    "\n",
    "model.add(Conv2D(256,(3,3), activation = 'relu',padding='same'))\n",
    "model.add(Conv2D(256,(3,3), activation = 'relu',padding='same'))\n",
    "model.add(Conv2D(256,(3,3), activation = 'relu',padding='same'))\n",
    "model.add(Conv2D(256,(3,3), activation = 'relu',padding='same'))\n",
    "model.add(MaxPooling2D(pool_size = (2, 2)))\n",
    "\n",
    "model.add(Conv2D(512,(3,3), activation = 'relu',padding='same'))\n",
    "model.add(Conv2D(512,(3,3), activation = 'relu',padding='same'))\n",
    "model.add(Conv2D(512,(3, 3), activation = 'relu',padding='same'))\n",
    "model.add(Conv2D(512,(3, 3), activation = 'relu',padding='same'))\n",
    "model.add(MaxPooling2D(pool_size = (2, 2)))\n",
    "\n",
    "model.add(Flatten())\n",
    "model.add(Dense(units=4096, activation = 'relu'))\n",
    "model.add(Dense(units=1000, activation = 'relu'))\n",
    "model.add(Dense(units=10, activation = 'softmax'))\n",
    "\n",
    "model.compile(optimizer = 'adam', loss = 'binary_crossentropy', metrics = ['accuracy'])"
   ]
  },
  {
   "cell_type": "code",
   "execution_count": null,
   "metadata": {},
   "outputs": [],
   "source": [
    "model.fit(x=x_train,y=y_train_onthot, batch_size=3000, epochs=10)"
   ]
  },
  {
   "cell_type": "code",
   "execution_count": null,
   "metadata": {},
   "outputs": [],
   "source": [
    "results = model.evaluate(x_test, y_test_onthot, batch_size=128)"
   ]
  },
  {
   "cell_type": "markdown",
   "metadata": {},
   "source": []
  },
  {
   "cell_type": "markdown",
   "metadata": {},
   "source": [
    "# 直接使用keras內建模型\n",
    "### 以Resnet舉例\n",
    "\n",
    "<img src=\"data:image/png;base64,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\">\n"
   ]
  },
  {
   "cell_type": "code",
   "execution_count": 43,
   "metadata": {},
   "outputs": [],
   "source": [
    "\n",
    "input_tensor = Input(shape=(28, 28,3))\n",
    "\n",
    "Resnet50 = tf.keras.applications.ResNet50(\n",
    "input_tensor=input_tensor\n",
    ",include_top = True\n",
    ",weights = None\n",
    ", classes=10\n",
    "#, classifier_activation='softmax'\n",
    ")\n"
   ]
  },
  {
   "cell_type": "code",
   "execution_count": 44,
   "metadata": {},
   "outputs": [],
   "source": [
    "Resnet50.compile(optimizer = 'adam', loss = 'binary_crossentropy', metrics = ['accuracy'])"
   ]
  },
  {
   "cell_type": "code",
   "execution_count": null,
   "metadata": {},
   "outputs": [],
   "source": []
  },
  {
   "cell_type": "code",
   "execution_count": 45,
   "metadata": {},
   "outputs": [
    {
     "name": "stdout",
     "output_type": "stream",
     "text": [
      "(60000, 28, 28, 3)\n",
      "(10000, 28, 28, 3)\n"
     ]
    }
   ],
   "source": [
    "x_train_stacked = np.stack((x_train,)*3, axis=-1)\n",
    "x_train_stacked = np.reshape(x_train_stacked,[-1,28,28,3])\n",
    "print(x_train_stacked.shape)\n",
    "\n",
    "x_test_stacked = np.stack((x_test,)*3, axis=-1)\n",
    "x_test_stacked = np.reshape(x_test_stacked,[-1,28,28,3])\n",
    "print(x_test_stacked.shape)"
   ]
  },
  {
   "cell_type": "code",
   "execution_count": 46,
   "metadata": {},
   "outputs": [
    {
     "name": "stdout",
     "output_type": "stream",
     "text": [
      "Train on 60000 samples\n",
      "Epoch 1/3\n",
      "60000/60000 [==============================] - 15s 244us/sample - loss: 0.2240 - accuracy: 0.9360\n",
      "Epoch 2/3\n",
      "60000/60000 [==============================] - 8s 133us/sample - loss: 0.0276 - accuracy: 0.9903\n",
      "Epoch 3/3\n",
      "60000/60000 [==============================] - 8s 133us/sample - loss: 0.0104 - accuracy: 0.9965\n"
     ]
    },
    {
     "data": {
      "text/plain": [
       "<tensorflow.python.keras.callbacks.History at 0x7f1ad91eeac8>"
      ]
     },
     "execution_count": 46,
     "metadata": {},
     "output_type": "execute_result"
    }
   ],
   "source": [
    "#.fit(x=x_train,y=y_train_onthot, batch_size=3000, epochs=10)\n",
    "Resnet50.fit(x_train_stacked,y=y_train_onthot, batch_size=3000, epochs=3)"
   ]
  },
  {
   "cell_type": "code",
   "execution_count": 47,
   "metadata": {},
   "outputs": [
    {
     "name": "stdout",
     "output_type": "stream",
     "text": [
      "10000/10000 [==============================] - 1s 116us/sample - loss: 0.3765 - accuracy: 0.9000\n"
     ]
    },
    {
     "data": {
      "text/plain": [
       "[0.376468825340271, 0.9]"
      ]
     },
     "execution_count": 47,
     "metadata": {},
     "output_type": "execute_result"
    }
   ],
   "source": [
    "#.fit(x=x_train,y=y_train_onthot, batch_size=3000, epochs=10)\n",
    "Resnet50.evaluate(x_test_stacked, y_test_onthot, batch_size=3000)"
   ]
  },
  {
   "cell_type": "markdown",
   "metadata": {},
   "source": [
    "# 複雜度 與 泛化能力\n",
    "## (天下沒有白吃的午餐, no free lunch)\n",
    "<img src=\"https://d1dwq032kyr03c.cloudfront.net/upload/images/20181020/20112540fLYimc78gu.png\">"
   ]
  },
  {
   "cell_type": "markdown",
   "metadata": {},
   "source": [
    "# Generative adversarial networks(gan)\n",
    "\n",
    "<img src=\"https://miro.medium.com/max/2812/1*cxnqsjXYP-lx-3afYsuxXQ.png\">"
   ]
  },
  {
   "cell_type": "code",
   "execution_count": 153,
   "metadata": {},
   "outputs": [],
   "source": [
    "\n",
    "from tensorflow.keras.datasets import mnist\n",
    "from tensorflow.keras.layers import Input, Dense, Reshape, Flatten, Dropout\n",
    "from tensorflow.keras.layers import BatchNormalization, Activation, ZeroPadding2D\n",
    "from tensorflow.keras.layers import LeakyReLU\n",
    "from tensorflow.keras.layers import UpSampling2D, Conv2D\n",
    "from tensorflow.keras.models import Sequential, Model\n",
    "from tensorflow.keras.optimizers import Adam\n",
    "\n",
    "import matplotlib.pyplot as plt\n",
    "import sys\n",
    "import numpy as np\n",
    "\n",
    "class GAN():\n",
    "    def __init__(self,number=0):\n",
    "        # Input shape\n",
    "        self.img_rows = 28\n",
    "        self.img_cols = 28\n",
    "        self.channels = 1\n",
    "        self.img_shape = (self.img_rows, self.img_cols, self.channels)\n",
    "        \n",
    "        self.number =number\n",
    "        self.latent_dim = 100\n",
    "\n",
    "        optimizer = Adam(0.0002, 0.5)\n",
    "\n",
    "        # Build and compile the discriminator\n",
    "        self.discriminator = self.build_discriminator()\n",
    "        self.discriminator.compile(loss='binary_crossentropy',\n",
    "            optimizer=optimizer,\n",
    "            metrics=['accuracy'])\n",
    "\n",
    "        # Build the generator\n",
    "        self.generator = self.build_generator()\n",
    "\n",
    "        # The generator takes noise as input and generates imgs\n",
    "        z = Input(shape=(self.latent_dim,))\n",
    "        img = self.generator(z)\n",
    "\n",
    "        # For the combined model we will only train the generator\n",
    "        self.discriminator.trainable = False\n",
    "\n",
    "        # The discriminator takes generated images as input and determines validity\n",
    "        valid = self.discriminator(img)\n",
    "\n",
    "        # The combined model  (stacked generator and discriminator)\n",
    "        # Trains the generator to fool the discriminator\n",
    "        self.combined = Model(z, valid)\n",
    "        self.combined.compile(loss='binary_crossentropy', optimizer=optimizer)\n",
    "\n",
    "    def build_generator(self):\n",
    "\n",
    "        model = Sequential()\n",
    "\n",
    "        model.add(Dense(128 * 7 * 7, activation=\"relu\", input_dim=self.latent_dim))\n",
    "        model.add(Reshape((7, 7, 128)))\n",
    "        model.add(UpSampling2D())\n",
    "        model.add(Conv2D(128, kernel_size=3, padding=\"same\"))\n",
    "        model.add(BatchNormalization(momentum=0.8))\n",
    "        model.add(Activation(\"relu\"))\n",
    "        model.add(UpSampling2D())\n",
    "        model.add(Conv2D(64, kernel_size=3, padding=\"same\"))\n",
    "        model.add(BatchNormalization(momentum=0.8))\n",
    "        model.add(Activation(\"relu\"))\n",
    "        model.add(Conv2D(self.channels, kernel_size=3, padding=\"same\"))\n",
    "        model.add(Activation(\"tanh\"))\n",
    "\n",
    "        model.summary()\n",
    "\n",
    "        noise = Input(shape=(self.latent_dim,))\n",
    "        img = model(noise)\n",
    "\n",
    "        return Model(noise, img)\n",
    "\n",
    "    def build_discriminator(self):\n",
    "\n",
    "        model = Sequential()\n",
    "\n",
    "        model.add(Conv2D(32, kernel_size=3, strides=2, input_shape=self.img_shape, padding=\"same\"))\n",
    "        model.add(LeakyReLU(alpha=0.2))\n",
    "        model.add(Dropout(0.25))\n",
    "        model.add(Conv2D(64, kernel_size=3, strides=2, padding=\"same\"))\n",
    "        model.add(ZeroPadding2D(padding=((0,1),(0,1))))\n",
    "        model.add(BatchNormalization(momentum=0.8))\n",
    "        model.add(LeakyReLU(alpha=0.2))\n",
    "        model.add(Dropout(0.25))\n",
    "        model.add(Conv2D(128, kernel_size=3, strides=2, padding=\"same\"))\n",
    "        model.add(BatchNormalization(momentum=0.8))\n",
    "        model.add(LeakyReLU(alpha=0.2))\n",
    "        model.add(Dropout(0.25))\n",
    "        model.add(Conv2D(256, kernel_size=3, strides=1, padding=\"same\"))\n",
    "        model.add(BatchNormalization(momentum=0.8))\n",
    "        model.add(LeakyReLU(alpha=0.2))\n",
    "        model.add(Dropout(0.25))\n",
    "        model.add(Flatten())\n",
    "        model.add(Dense(1, activation='sigmoid'))\n",
    "\n",
    "        model.summary()\n",
    "\n",
    "        img = Input(shape=self.img_shape)\n",
    "        validity = model(img)\n",
    "\n",
    "        return Model(img, validity)\n",
    "\n",
    "    def train(self, epochs, batch_size=128):\n",
    "\n",
    "        # Load the dataset\n",
    "        (X_train, Y_train), (_, _) = mnist.load_data()\n",
    "        indices = [index for index,f in enumerate(Y_train)  if f == self.number]\n",
    "        X_train = X_train[indices]\n",
    "        Y_train = Y_train[indices]\n",
    "        # Rescale -1 to 1\n",
    "        X_train = X_train / 127.5 - 1.\n",
    "        X_train = np.expand_dims(X_train, axis=3)\n",
    "\n",
    "        # Adversarial ground truths\n",
    "        valid = np.ones((batch_size, 1))\n",
    "        fake = np.zeros((batch_size, 1))\n",
    "\n",
    "        for epoch in range(1,epochs+1):\n",
    "\n",
    "            # ---------------------\n",
    "            #  Train Discriminator\n",
    "            # ---------------------\n",
    "\n",
    "            # Select a random half of images\n",
    "            idx = np.random.randint(0, X_train.shape[0], batch_size)\n",
    "            imgs = X_train[idx]\n",
    "\n",
    "            # Sample noise and generate a batch of new images\n",
    "            noise = np.random.normal(0, 1, (batch_size, self.latent_dim))\n",
    "            gen_imgs = self.generator.predict(noise)\n",
    "\n",
    "            # Train the discriminator (real classified as ones and generated as zeros)\n",
    "            imgs = np.concatenate((imgs,gen_imgs), axis=0)\n",
    "            labels = np.concatenate((valid,fake),axis=0)\n",
    "            \n",
    "            indices = [f for f in range(len(imgs))]\n",
    "            np.random.shuffle(indices)\n",
    "            \n",
    "            imgs = np.array(imgs)[indices]\n",
    "            labels = np.array(labels)[indices]\n",
    "            \n",
    "            d_loss = self.discriminator.train_on_batch(imgs, labels)\n",
    "#             d_loss_real = self.discriminator.train_on_batch(imgs, valid)\n",
    "#             d_loss_fake = self.discriminator.train_on_batch(gen_imgs, fake)\n",
    "#             d_loss = 0.5 * np.add(d_loss_real, d_loss_fake)\n",
    "\n",
    "            # ---------------------\n",
    "            #  Train Generator\n",
    "            # ---------------------\n",
    "\n",
    "            # Train the generator (wants discriminator to mistake images as real)\n",
    "            g_loss = self.combined.train_on_batch(noise, valid)\n",
    "\n",
    "            # Plot the progress\n",
    "            if epoch %10 ==0:\n",
    "                print (\"%d [D loss: %f, acc.: %.2f%%] [G loss: %f]\" % (epoch, d_loss[0], 100*d_loss[1], g_loss))\n",
    "\n",
    "    def plt_fake_imgs(self):\n",
    "        r, c = 5, 5\n",
    "        noise = np.random.normal(0, 1, (r * c, gan.latent_dim))\n",
    "        gen_imgs = gan.generator.predict(noise)\n",
    "\n",
    "        # Rescale images 0 - 1\n",
    "        gen_imgs = 0.5 * gen_imgs + 0.5\n",
    "        for i in range(r*c):\n",
    "            plt.imshow(gen_imgs[i])\n",
    "            plt.show()\n"
   ]
  },
  {
   "cell_type": "code",
   "execution_count": 160,
   "metadata": {
    "scrolled": true
   },
   "outputs": [
    {
     "name": "stdout",
     "output_type": "stream",
     "text": [
      "Model: \"sequential_48\"\n",
      "_________________________________________________________________\n",
      "Layer (type)                 Output Shape              Param #   \n",
      "=================================================================\n",
      "conv2d_168 (Conv2D)          (None, 14, 14, 32)        320       \n",
      "_________________________________________________________________\n",
      "leaky_re_lu_96 (LeakyReLU)   (None, 14, 14, 32)        0         \n",
      "_________________________________________________________________\n",
      "dropout_88 (Dropout)         (None, 14, 14, 32)        0         \n",
      "_________________________________________________________________\n",
      "conv2d_169 (Conv2D)          (None, 7, 7, 64)          18496     \n",
      "_________________________________________________________________\n",
      "zero_padding2d_24 (ZeroPaddi (None, 8, 8, 64)          0         \n",
      "_________________________________________________________________\n",
      "batch_normalization_110 (Bat (None, 8, 8, 64)          256       \n",
      "_________________________________________________________________\n",
      "leaky_re_lu_97 (LeakyReLU)   (None, 8, 8, 64)          0         \n",
      "_________________________________________________________________\n",
      "dropout_89 (Dropout)         (None, 8, 8, 64)          0         \n",
      "_________________________________________________________________\n",
      "conv2d_170 (Conv2D)          (None, 4, 4, 128)         73856     \n",
      "_________________________________________________________________\n",
      "batch_normalization_111 (Bat (None, 4, 4, 128)         512       \n",
      "_________________________________________________________________\n",
      "leaky_re_lu_98 (LeakyReLU)   (None, 4, 4, 128)         0         \n",
      "_________________________________________________________________\n",
      "dropout_90 (Dropout)         (None, 4, 4, 128)         0         \n",
      "_________________________________________________________________\n",
      "conv2d_171 (Conv2D)          (None, 4, 4, 256)         295168    \n",
      "_________________________________________________________________\n",
      "batch_normalization_112 (Bat (None, 4, 4, 256)         1024      \n",
      "_________________________________________________________________\n",
      "leaky_re_lu_99 (LeakyReLU)   (None, 4, 4, 256)         0         \n",
      "_________________________________________________________________\n",
      "dropout_91 (Dropout)         (None, 4, 4, 256)         0         \n",
      "_________________________________________________________________\n",
      "flatten_24 (Flatten)         (None, 4096)              0         \n",
      "_________________________________________________________________\n",
      "dense_48 (Dense)             (None, 1)                 4097      \n",
      "=================================================================\n",
      "Total params: 393,729\n",
      "Trainable params: 392,833\n",
      "Non-trainable params: 896\n",
      "_________________________________________________________________\n",
      "Model: \"sequential_49\"\n",
      "_________________________________________________________________\n",
      "Layer (type)                 Output Shape              Param #   \n",
      "=================================================================\n",
      "dense_49 (Dense)             (None, 6272)              633472    \n",
      "_________________________________________________________________\n",
      "reshape_24 (Reshape)         (None, 7, 7, 128)         0         \n",
      "_________________________________________________________________\n",
      "up_sampling2d_48 (UpSampling (None, 14, 14, 128)       0         \n",
      "_________________________________________________________________\n",
      "conv2d_172 (Conv2D)          (None, 14, 14, 128)       147584    \n",
      "_________________________________________________________________\n",
      "batch_normalization_113 (Bat (None, 14, 14, 128)       512       \n",
      "_________________________________________________________________\n",
      "activation_72 (Activation)   (None, 14, 14, 128)       0         \n",
      "_________________________________________________________________\n",
      "up_sampling2d_49 (UpSampling (None, 28, 28, 128)       0         \n",
      "_________________________________________________________________\n",
      "conv2d_173 (Conv2D)          (None, 28, 28, 64)        73792     \n",
      "_________________________________________________________________\n",
      "batch_normalization_114 (Bat (None, 28, 28, 64)        256       \n",
      "_________________________________________________________________\n",
      "activation_73 (Activation)   (None, 28, 28, 64)        0         \n",
      "_________________________________________________________________\n",
      "conv2d_174 (Conv2D)          (None, 28, 28, 1)         577       \n",
      "_________________________________________________________________\n",
      "activation_74 (Activation)   (None, 28, 28, 1)         0         \n",
      "=================================================================\n",
      "Total params: 856,193\n",
      "Trainable params: 855,809\n",
      "Non-trainable params: 384\n",
      "_________________________________________________________________\n",
      "10 [D loss: 0.083014, acc.: 99.56%] [G loss: 1.331288]\n",
      "20 [D loss: 0.050399, acc.: 99.67%] [G loss: 0.084067]\n",
      "30 [D loss: 0.498991, acc.: 77.00%] [G loss: 3.187723]\n",
      "40 [D loss: 1.445640, acc.: 43.64%] [G loss: 1.969578]\n",
      "50 [D loss: 0.735718, acc.: 62.62%] [G loss: 3.132131]\n",
      "60 [D loss: 0.717717, acc.: 61.48%] [G loss: 1.558653]\n",
      "70 [D loss: 0.757043, acc.: 58.54%] [G loss: 1.329193]\n",
      "80 [D loss: 0.684937, acc.: 61.75%] [G loss: 1.170181]\n",
      "90 [D loss: 0.709198, acc.: 58.79%] [G loss: 1.260126]\n",
      "100 [D loss: 0.716653, acc.: 57.52%] [G loss: 1.103061]\n"
     ]
    }
   ],
   "source": [
    "\n",
    "gan = GAN(5)\n",
    "gan.train(epochs=100, batch_size=5000)"
   ]
  },
  {
   "cell_type": "code",
   "execution_count": 161,
   "metadata": {
    "scrolled": true
   },
   "outputs": [
    {
     "data": {
      "image/png": "[encoded data removed]",
      "text/plain": [
       "<Figure size 432x288 with 1 Axes>"
      ]
     },
     "metadata": {
      "needs_background": "light"
     },
     "output_type": "display_data"
    },
    {
     "data": {
      "image/png": "[encoded data removed]",
      "text/plain": [
       "<Figure size 432x288 with 1 Axes>"
      ]
     },
     "metadata": {
      "needs_background": "light"
     },
     "output_type": "display_data"
    },
    {
     "data": {
      "image/png": "[encoded data removed]",
      "text/plain": [
       "<Figure size 432x288 with 1 Axes>"
      ]
     },
     "metadata": {
      "needs_background": "light"
     },
     "output_type": "display_data"
    },
    {
     "data": {
      "image/png": "[encoded data removed]",
      "text/plain": [
       "<Figure size 432x288 with 1 Axes>"
      ]
     },
     "metadata": {
      "needs_background": "light"
     },
     "output_type": "display_data"
    },
    {
     "data": {
      "image/png": "[encoded data removed]",
      "text/plain": [
       "<Figure size 432x288 with 1 Axes>"
      ]
     },
     "metadata": {
      "needs_background": "light"
     },
     "output_type": "display_data"
    },
    {
     "data": {
      "image/png": "[encoded data removed]",
      "text/plain": [
       "<Figure size 432x288 with 1 Axes>"
      ]
     },
     "metadata": {
      "needs_background": "light"
     },
     "output_type": "display_data"
    },
    {
     "data": {
      "image/png": "[encoded data removed]",
      "text/plain": [
       "<Figure size 432x288 with 1 Axes>"
      ]
     },
     "metadata": {
      "needs_background": "light"
     },
     "output_type": "display_data"
    },
    {
     "data": {
      "image/png": "[encoded data removed]",
      "text/plain": [
       "<Figure size 432x288 with 1 Axes>"
      ]
     },
     "metadata": {
      "needs_background": "light"
     },
     "output_type": "display_data"
    },
    {
     "data": {
      "image/png": "[encoded data removed]",
      "text/plain": [
       "<Figure size 432x288 with 1 Axes>"
      ]
     },
     "metadata": {
      "needs_background": "light"
     },
     "output_type": "display_data"
    },
    {
     "data": {
      "image/png": "[encoded data removed]",
      "text/plain": [
       "<Figure size 432x288 with 1 Axes>"
      ]
     },
     "metadata": {
      "needs_background": "light"
     },
     "output_type": "display_data"
    },
    {
     "data": {
      "image/png": "[encoded data removed]",
      "text/plain": [
       "<Figure size 432x288 with 1 Axes>"
      ]
     },
     "metadata": {
      "needs_background": "light"
     },
     "output_type": "display_data"
    },
    {
     "data": {
      "image/png": "[encoded data removed]",
      "text/plain": [
       "<Figure size 432x288 with 1 Axes>"
      ]
     },
     "metadata": {
      "needs_background": "light"
     },
     "output_type": "display_data"
    },
    {
     "data": {
      "image/png": "[encoded data removed]",
      "text/plain": [
       "<Figure size 432x288 with 1 Axes>"
      ]
     },
     "metadata": {
      "needs_background": "light"
     },
     "output_type": "display_data"
    },
    {
     "data": {
      "image/png": "[encoded data removed]",
      "text/plain": [
       "<Figure size 432x288 with 1 Axes>"
      ]
     },
     "metadata": {
      "needs_background": "light"
     },
     "output_type": "display_data"
    },
    {
     "data": {
      "image/png": "[encoded data removed]",
      "text/plain": [
       "<Figure size 432x288 with 1 Axes>"
      ]
     },
     "metadata": {
      "needs_background": "light"
     },
     "output_type": "display_data"
    },
    {
     "data": {
      "image/png": "[encoded data removed]",
      "text/plain": [
       "<Figure size 432x288 with 1 Axes>"
      ]
     },
     "metadata": {
      "needs_background": "light"
     },
     "output_type": "display_data"
    },
    {
     "data": {
      "image/png": "[encoded data removed]",
      "text/plain": [
       "<Figure size 432x288 with 1 Axes>"
      ]
     },
     "metadata": {
      "needs_background": "light"
     },
     "output_type": "display_data"
    },
    {
     "data": {
      "image/png": "[encoded data removed]",
      "text/plain": [
       "<Figure size 432x288 with 1 Axes>"
      ]
     },
     "metadata": {
      "needs_background": "light"
     },
     "output_type": "display_data"
    },
    {
     "data": {
      "image/png": "[encoded data removed]",
      "text/plain": [
       "<Figure size 432x288 with 1 Axes>"
      ]
     },
     "metadata": {
      "needs_background": "light"
     },
     "output_type": "display_data"
    },
    {
     "data": {
      "image/png": "[encoded data removed]",
      "text/plain": [
       "<Figure size 432x288 with 1 Axes>"
      ]
     },
     "metadata": {
      "needs_background": "light"
     },
     "output_type": "display_data"
    },
    {
     "data": {
      "image/png": "[encoded data removed]",
      "text/plain": [
       "<Figure size 432x288 with 1 Axes>"
      ]
     },
     "metadata": {
      "needs_background": "light"
     },
     "output_type": "display_data"
    },
    {
     "data": {
      "image/png": "[encoded data removed]",
      "text/plain": [
       "<Figure size 432x288 with 1 Axes>"
      ]
     },
     "metadata": {
      "needs_background": "light"
     },
     "output_type": "display_data"
    },
    {
     "data": {
      "image/png": "[encoded data removed]",
      "text/plain": [
       "<Figure size 432x288 with 1 Axes>"
      ]
     },
     "metadata": {
      "needs_background": "light"
     },
     "output_type": "display_data"
    },
    {
     "data": {
      "image/png": "[encoded data removed]",
      "text/plain": [
       "<Figure size 432x288 with 1 Axes>"
      ]
     },
     "metadata": {
      "needs_background": "light"
     },
     "output_type": "display_data"
    },
    {
     "data": {
      "image/png": "[encoded data removed]",
      "text/plain": [
       "<Figure size 432x288 with 1 Axes>"
      ]
     },
     "metadata": {
      "needs_background": "light"
     },
     "output_type": "display_data"
    }
   ],
   "source": [
    "gan.plt_fake_imgs()"
   ]
  },
  {
   "cell_type": "code",
   "execution_count": 114,
   "metadata": {},
   "outputs": [],
   "source": []
  },
  {
   "cell_type": "code",
   "execution_count": null,
   "metadata": {},
   "outputs": [],
   "source": []
  },
  {
   "cell_type": "markdown",
   "metadata": {},
   "source": [
    "# 繼續學習管道\n",
    "\n",
    "## 教育部人工智慧技術及應用人才培育計畫 - 系列課程\n",
    "### 線上教育課程，免費觀看\n",
    "https://idea.cs.nthu.edu.tw/~AIcoursemap/home/courses-chinese.html\n",
    "\n",
    "## 台大教授 李弘毅\n",
    "### 基礎觀念、數學、基本神經網路、進階神經網路\n",
    "https://www.youtube.com/channel/UC2ggjtuuWvxrHHHiaDH1dlQ\n",
    "\n",
    "## AI科普獎座\n",
    "### 有趣科學科普知識\n",
    "https://highscope.ch.ntu.edu.tw/wordpress/?cat=11489"
   ]
  },
  {
   "cell_type": "code",
   "execution_count": null,
   "metadata": {},
   "outputs": [],
   "source": []
  },
  {
   "cell_type": "code",
   "execution_count": null,
   "metadata": {},
   "outputs": [],
   "source": []
  }
 ],
 "metadata": {
  "kernelspec": {
   "display_name": "Python 3",
   "language": "python",
   "name": "python3"
  },
  "language_info": {
   "codemirror_mode": {
    "name": "ipython",
    "version": 3
   },
   "file_extension": ".py",
   "mimetype": "text/x-python",
   "name": "python",
   "nbconvert_exporter": "python",
   "pygments_lexer": "ipython3",
   "version": "3.6.9"
  }
 },
 "nbformat": 4,
 "nbformat_minor": 4
}
